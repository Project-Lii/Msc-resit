{
 "cells": [
  {
   "cell_type": "code",
   "execution_count": 18,
   "metadata": {
    "collapsed": true
   },
   "outputs": [],
   "source": [
    "import os\n",
    "import numpy as np\n",
    "from skimage.io import imread, imsave\n",
    "from PIL import Image"
   ]
  },
  {
   "cell_type": "code",
   "execution_count": 103,
   "outputs": [
    {
     "data": {
      "text/plain": "'E:\\\\DataSets\\\\BraTS2020\\\\Brats2018FoulModel2D\\\\testImage_small\\\\BraTS19_CBICA_BHZ_1_69.npy'"
     },
     "execution_count": 103,
     "metadata": {},
     "output_type": "execute_result"
    }
   ],
   "source": [
    "img_paths = 'E:\\DataSets\\BraTS2020\\Brats2018FoulModel2D\\\\testImage_small'\n",
    "img_path = \"BraTS19_CBICA_ANV_1_72.npy\"\n",
    "img_path2 = \"BraTS19_CBICA_BGE_1_92.npy\"\n",
    "img_path3 = \"BraTS19_CBICA_BHZ_1_69.npy\"\n",
    "img_path = os.path.join(img_paths,img_path3)\n",
    "img_path"
   ],
   "metadata": {
    "collapsed": false,
    "pycharm": {
     "name": "#%%\n"
    }
   }
  },
  {
   "cell_type": "code",
   "execution_count": 104,
   "outputs": [],
   "source": [
    "img = np.load(img_path)"
   ],
   "metadata": {
    "collapsed": false,
    "pycharm": {
     "name": "#%%\n"
    }
   }
  },
  {
   "cell_type": "code",
   "execution_count": 61,
   "outputs": [],
   "source": [
    "i=0\n",
    "img_n = img[:,:,i]\n",
    "img_n[img_n<0]=0\n",
    "im = Image.fromarray(img_n*256/img_n.max())\n",
    "im = im.convert('L')\n",
    "# im.save(\".\\pics\\image_ANV_1_72_{}.png\".format(i))"
   ],
   "metadata": {
    "collapsed": false,
    "pycharm": {
     "name": "#%%\n"
    }
   }
  },
  {
   "cell_type": "code",
   "execution_count": 62,
   "outputs": [],
   "source": [
    "imr = Image.open(\"./pics/origin/zipper_artifact.jpg\")\n",
    "imr = np.array(imr)"
   ],
   "metadata": {
    "collapsed": false,
    "pycharm": {
     "name": "#%%\n"
    }
   }
  },
  {
   "cell_type": "code",
   "execution_count": 64,
   "outputs": [
    {
     "data": {
      "text/plain": "1.7871168734985092"
     },
     "execution_count": 64,
     "metadata": {},
     "output_type": "execute_result"
    }
   ],
   "source": [
    "(imr/256*img_n.max()-img_n).max()"
   ],
   "metadata": {
    "collapsed": false,
    "pycharm": {
     "name": "#%%\n"
    }
   }
  },
  {
   "cell_type": "code",
   "execution_count": 65,
   "outputs": [],
   "source": [
    "img[:,:,0]=imr/256*img_n.max()\n",
    "np.save(\"E:\\DataSets\\BraTS2020\\Brats2018FoulModel2D\\\\testImage_small_artifact\\BHZ\",img)\n"
   ],
   "metadata": {
    "collapsed": false,
    "pycharm": {
     "name": "#%%\n"
    }
   }
  },
  {
   "cell_type": "code",
   "execution_count": 83,
   "outputs": [
    {
     "name": "stdout",
     "output_type": "stream",
     "text": [
      "max:2.3274279045543063, min:-3.288199895747175\n"
     ]
    }
   ],
   "source": [
    "img_copy = img.copy()\n",
    "img_copy[img_copy==-9]=0\n",
    "imax = img_copy.max()\n",
    "imin = img_copy.min()\n",
    "print(\"max:{}, min:{}\".format(img_copy.max(),img_copy.min()))\n",
    "for i in [0,1,2,3]:\n",
    "    img_slice = Image.open(\"./pics/artifact/{}.png\".format(i))\n",
    "    img_slice = np.array(img_slice)/256*(imax-imin)+imin\n",
    "    img[:,:,i][img[:,:,i]!=-9]=img_slice[img[:,:,i]!=-9]\n",
    "\n",
    "np.save(\"E:\\DataSets\\BraTS2020\\Brats2018FoulModel2D\\\\testImage_small_artifact\\BHZ_zipper\",img)"
   ],
   "metadata": {
    "collapsed": false,
    "pycharm": {
     "name": "#%%\n"
    }
   }
  },
  {
   "cell_type": "code",
   "execution_count": 89,
   "outputs": [
    {
     "data": {
      "text/plain": "<Figure size 432x288 with 1 Axes>",
      "image/png": "[encoded data removed]"
     },
     "metadata": {
      "needs_background": "light"
     },
     "output_type": "display_data"
    }
   ],
   "source": [
    "import matplotlib.pyplot as plt\n",
    "import pandas as pd\n",
    "\n",
    "log = pd.read_csv(\"./models/Jiu0Monkey_Unet_woDS/log.csv\")\n",
    "plt.plot(log['val_loss'],label='Validation loss')\n",
    "plt.plot(log['loss'],label='Training loss')\n",
    "plt.legend()\n",
    "plt.xlabel('Epochs')\n",
    "plt.ylabel('Loss')\n",
    "plt.savefig('./pics/losses.png',dpi=600)\n",
    "plt.show()"
   ],
   "metadata": {
    "collapsed": false,
    "pycharm": {
     "name": "#%%\n"
    }
   }
  },
  {
   "cell_type": "code",
   "execution_count": 99,
   "outputs": [],
   "source": [
    "img_n = img[:,:,0]+9\n",
    "im = Image.fromarray(img_n*256/img_n.max())\n",
    "im = im.convert('L')\n",
    "im.save(\".\\pics\\origin\\{}.png\".format('ANV'))"
   ],
   "metadata": {
    "collapsed": false,
    "pycharm": {
     "name": "#%%\n"
    }
   }
  },
  {
   "cell_type": "code",
   "execution_count": 102,
   "outputs": [],
   "source": [
    "imax = []\n",
    "for i in [0,1,2,3]:\n",
    "    img_slice = img[:,:,i]\n",
    "    img_slice = np.array(img_slice)+9\n",
    "    imax.append(img_slice.max())\n",
    "    im = Image.fromarray(img_slice*256/imax[i])\n",
    "    im = im.convert('L')\n",
    "    im.save(\".\\pics_origin\\BHZ\\{}.png\".format(i))"
   ],
   "metadata": {
    "collapsed": false,
    "pycharm": {
     "name": "#%%\n"
    }
   }
  },
  {
   "cell_type": "code",
   "execution_count": 113,
   "outputs": [],
   "source": [
    "artifact_str = \"magnetic_sensitivity\"\n",
    "img_copy = img.copy()\n",
    "for i in [0,1,2,3]:\n",
    "    img_slice = Image.open(\"./pics_origin/BHZ_artifacts/{}/{}.png\".format(artifact_str,i))\n",
    "    img_slice = np.array(img_slice)/256*imax[i]-9\n",
    "    img[:,:,i]=img_slice\n",
    "\n",
    "np.save(\"E:\\DataSets\\BraTS2020\\Brats2018FoulModel2D\\\\testImage_small_artifact\\BHZ_{}\".format(artifact_str),img)"
   ],
   "metadata": {
    "collapsed": false,
    "pycharm": {
     "name": "#%%\n"
    }
   }
  },
  {
   "cell_type": "code",
   "execution_count": 111,
   "outputs": [],
   "source": [
    "ans = np.array(Image.open(\"./pics_origin/BHZ_artifacts/{}/{}.png\".format(artifact_str,i)))"
   ],
   "metadata": {
    "collapsed": false,
    "pycharm": {
     "name": "#%%\n"
    }
   }
  },
  {
   "cell_type": "code",
   "execution_count": null,
   "outputs": [],
   "source": [],
   "metadata": {
    "collapsed": false,
    "pycharm": {
     "name": "#%%\n"
    }
   }
  }
 ],
 "metadata": {
  "kernelspec": {
   "display_name": "Python 3",
   "language": "python",
   "name": "python3"
  },
  "language_info": {
   "codemirror_mode": {
    "name": "ipython",
    "version": 2
   },
   "file_extension": ".py",
   "mimetype": "text/x-python",
   "name": "python",
   "nbconvert_exporter": "python",
   "pygments_lexer": "ipython2",
   "version": "2.7.6"
  }
 },
 "nbformat": 4,
 "nbformat_minor": 0
}